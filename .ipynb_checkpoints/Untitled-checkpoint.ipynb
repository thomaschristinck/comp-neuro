{
 "cells": [
  {
   "cell_type": "code",
   "execution_count": null,
   "metadata": {},
   "outputs": [],
   "source": []
  },
  {
   "cell_type": "code",
   "execution_count": 1,
   "metadata": {},
   "outputs": [
    {
     "ename": "NameError",
     "evalue": "name 'small_tpr' is not defined",
     "output_type": "error",
     "traceback": [
      "\u001b[0;31m---------------------------------------------------------------------------\u001b[0m",
      "\u001b[0;31mNameError\u001b[0m                                 Traceback (most recent call last)",
      "\u001b[0;32mcell_name\u001b[0m in \u001b[0;36masync-def-wrapper\u001b[0;34m()\u001b[0m\n",
      "\u001b[0;31mNameError\u001b[0m: name 'small_tpr' is not defined"
     ]
    }
   ],
   "source": [
    "\n",
    "        small_tpr\n",
    "        small_fdr\n",
    "        large_tpr\n",
    "        large_fdr\n",
    "\n",
    "        #plt.plot(sorted(all_fdr), [x for _, x in sorted(zip(all_fdr, all_tpr))])\n",
    "\n",
    "        # Here I sort fdr's in order and keep them matched with the corresponding tpr - pretty sure\n",
    "        # there is no bug here\n",
    "        plt.plot(sorted(small_fdr), [x for _, x in sorted(zip(small_fdr, small_tpr))], label='small')\n",
    "        plt.plot(sorted(med_fdr), [x for _, x in sorted(zip(med_fdr, med_tpr))], label='medium')\n",
    "        plt.plot(sorted(large_fdr), [x for _, x in sorted(zip(large_fdr, large_tpr))], label='large')\n",
    "        plt.legend(loc=3)\n",
    "        plt.ylabel('True Positive Rate')\n",
    "        plt.xlabel('False Detection Rate')\n",
    "        plt.title('Uncertainty U-Net ROC')\n",
    "        plt.show()"
   ]
  },
  {
   "cell_type": "code",
   "execution_count": null,
   "metadata": {},
   "outputs": [],
   "source": []
  }
 ],
 "metadata": {
  "kernelspec": {
   "display_name": "Python 3",
   "language": "python",
   "name": "python3"
  },
  "language_info": {
   "codemirror_mode": {
    "name": "ipython",
    "version": 3
   },
   "file_extension": ".py",
   "mimetype": "text/x-python",
   "name": "python",
   "nbconvert_exporter": "python",
   "pygments_lexer": "ipython3",
   "version": "3.6.5"
  }
 },
 "nbformat": 4,
 "nbformat_minor": 2
}
